{
 "cells": [
  {
   "cell_type": "code",
   "execution_count": 51,
   "metadata": {
    "collapsed": true
   },
   "outputs": [],
   "source": [
    "%matplotlib inline\n",
    "import matplotlib.pyplot as plt\n",
    "import numpy as np\n",
    "import time\n",
    "import cProfile\n",
    "from sklearn import preprocessing\n",
    "from sklearn import decomposition\n",
    "from sklearn.cross_validation import train_test_split\n",
    "from scipy.spatial.distance import cdist\n",
    "from my_kmeans_new import my_kmeans_new"
   ]
  },
  {
   "cell_type": "code",
   "execution_count": 52,
   "metadata": {
    "collapsed": false
   },
   "outputs": [],
   "source": [
    "def dataset_fixed_cov():\n",
    "    '''Generate 2 Gaussians samples with the same covariance matrix'''\n",
    "    n, dim = 10000, 2\n",
    "    np.random.seed(0)\n",
    "    #C = np.array([[0., -0.23], [0.83, .23]])\n",
    "    C = np.array([[0.,-0.23],[0.5,0.23]])\n",
    "    X = np.r_[np.dot(np.random.randn(n, dim), C),\n",
    "              np.dot(np.random.randn(n, dim), C) + np.array([1, 1])]\n",
    "    y = np.hstack((np.zeros(n), np.ones(n)))\n",
    "    return X, y\n",
    "\n",
    "X,y = dataset_fixed_cov()\n",
    "random_num = np.random.randint(X.shape[0], size = X.shape[0])\n",
    "random_number = 11232015\n",
    "rng = np.random.RandomState(random_number)\n",
    "permutation1 = rng.permutation(len(random_num))\n",
    "random_num = random_num[permutation1]\n",
    "X = X[random_num]\n",
    "y = y[random_num]\n",
    "X_train, X_test, y_train, y_test = train_test_split(X,y,test_size=0.5,random_state=11)\n",
    "X_train = preprocessing.scale(X_train,axis = 0, with_mean=True, with_std=True)"
   ]
  },
  {
   "cell_type": "code",
   "execution_count": 53,
   "metadata": {
    "collapsed": false
   },
   "outputs": [
    {
     "name": "stdout",
     "output_type": "stream",
     "text": [
      "9\n",
      "converged\n"
     ]
    }
   ],
   "source": [
    "centroids,l = my_kmeans_new(20,400,X_train,200)\n"
   ]
  },
  {
   "cell_type": "code",
   "execution_count": 54,
   "metadata": {
    "collapsed": true
   },
   "outputs": [],
   "source": [
    "def VLAD(C,x):\n",
    "    Y = cdist(x,C,metric='euclidean', p=2, V=None, VI=None, w=None)\n",
    "    clust_index = np.argmin(Y,axis = 1)\n",
    "    res_vec = np.zeros(x.shape[1])\n",
    "    for i in range(Y.shape[1]):\n",
    "        x_i = x[clust_index == i]\n",
    "        x_i = np.add(x_i,np.multiply(-1,C[i]))\n",
    "        if i == 0:\n",
    "            res_vec = x_i\n",
    "        else:\n",
    "            res_vec = np.concatenate((res_vec,x_i),axis = 0)\n",
    "    return res_vec"
   ]
  },
  {
   "cell_type": "code",
   "execution_count": null,
   "metadata": {
    "collapsed": false
   },
   "outputs": [],
   "source": []
  },
  {
   "cell_type": "code",
   "execution_count": 55,
   "metadata": {
    "collapsed": true
   },
   "outputs": [],
   "source": [
    "def build_bof():\n",
    "    \n",
    "    f50_features = '/home/sm6202/ML/data/features_50_pca'\n",
    "    with open(f50_features) as f:\n",
    "        data = np.zeros((1,65))\n",
    "        data = np.matrix(data)\n",
    "        i = 0\n",
    "        for line in f:\n",
    "            if i > 150:\n",
    "                break\n",
    "            floats = map(float, line.split())\n",
    "            floats = np.asarray(floats)\n",
    "            float1 = np.matrix(floats)\n",
    "            float1 = np.asarray(float1)\n",
    "            if(i == 0):\n",
    "                data = float1\n",
    "            else:\n",
    "                data = np.concatenate((data,float1),axis = 0)\n",
    "    centroids,l = my_kmeans_new(20,400,data,200)\n",
    "    \n",
    "    vlad_features = '/work/sm6202/ML/data/vlad_features_50_20'\n",
    "    pca_features1 = '/work/sm6202/ML/data/pca_features1'\n",
    "    \n",
    "    i = 0\n",
    "    j = 0\n",
    "\n",
    "    #print data\n",
    "    with open(vlad_features,'a+') as f_handle:\n",
    "\n",
    "        for filename in listdir(pca_features):\n",
    "            data = np.zeros((1,65)) \n",
    "            data = np.matrix(data)\n",
    "            i = i + 1\n",
    "            print j\n",
    "            j = 0\n",
    "            print filename\n",
    "            #if i > 3:\n",
    "            #    break\n",
    "            with open(join(jpg1_path,filename)) as f:\n",
    "                for line in f:\n",
    "                    j = j + 1\n",
    "                    #if j > 1:\n",
    "                    #    break\n",
    "                    #print line\n",
    "                    if not line.isspace():\n",
    "                        floats = map(float, line.split())\n",
    "                        floats = np.asarray(floats)\n",
    "                        float1 = np.matrix(floats)\n",
    "                        float1 = np.asarray(float1)\n",
    "                        sign = np.sign(float1)\n",
    "                        abs_val = np.absolute(float1)\n",
    "                        #print abs_val\n",
    "                        abs_val = abs_val**(0.5)\n",
    "                        float1 = np.multiply(abs_val,sign)\n",
    "\n",
    "                        #print float1\n",
    "                        if j == 1:\n",
    "                            data = float1\n",
    "                        else:\n",
    "                            data = np.concatenate((data,float1),axis = 0)\n",
    "            vlad_vec = VLAD(centroids,data)\n",
    "            file_n = np.zeros((1,1));\n",
    "            file_n = np.matrix(file_n)\n",
    "            file_n = filename\n",
    "            vlad_vec = np.concatenate((file_n,vlad_vec))\n",
    "            np.savetxt(f_handle,vlad_vec,fmt='%.4f')\n",
    "    \n",
    "    \n",
    "    \n",
    "    \n",
    "    \n",
    "    \n",
    "    \n",
    "    "
   ]
  },
  {
   "cell_type": "code",
   "execution_count": 56,
   "metadata": {
    "collapsed": false
   },
   "outputs": [
    {
     "ename": "IOError",
     "evalue": "[Errno 2] No such file or directory: '/home/sm6202/ML/data/features_50_pca'",
     "output_type": "error",
     "traceback": [
      "\u001b[1;31m---------------------------------------------------------------------------\u001b[0m",
      "\u001b[1;31mIOError\u001b[0m                                   Traceback (most recent call last)",
      "\u001b[1;32m<ipython-input-56-834ae6f60803>\u001b[0m in \u001b[0;36m<module>\u001b[1;34m()\u001b[0m\n\u001b[1;32m----> 1\u001b[1;33m \u001b[0mbuild_bof\u001b[0m\u001b[1;33m(\u001b[0m\u001b[1;33m)\u001b[0m\u001b[1;33m\u001b[0m\u001b[0m\n\u001b[0m",
      "\u001b[1;32m<ipython-input-55-e91e42edc930>\u001b[0m in \u001b[0;36mbuild_bof\u001b[1;34m()\u001b[0m\n\u001b[0;32m      2\u001b[0m \u001b[1;33m\u001b[0m\u001b[0m\n\u001b[0;32m      3\u001b[0m     \u001b[0mf50_features\u001b[0m \u001b[1;33m=\u001b[0m \u001b[1;34m'/home/sm6202/ML/data/features_50_pca'\u001b[0m\u001b[1;33m\u001b[0m\u001b[0m\n\u001b[1;32m----> 4\u001b[1;33m     \u001b[1;32mwith\u001b[0m \u001b[0mopen\u001b[0m\u001b[1;33m(\u001b[0m\u001b[0mf50_features\u001b[0m\u001b[1;33m)\u001b[0m \u001b[1;32mas\u001b[0m \u001b[0mf\u001b[0m\u001b[1;33m:\u001b[0m\u001b[1;33m\u001b[0m\u001b[0m\n\u001b[0m\u001b[0;32m      5\u001b[0m         \u001b[0mdata\u001b[0m \u001b[1;33m=\u001b[0m \u001b[0mnp\u001b[0m\u001b[1;33m.\u001b[0m\u001b[0mzeros\u001b[0m\u001b[1;33m(\u001b[0m\u001b[1;33m(\u001b[0m\u001b[1;36m1\u001b[0m\u001b[1;33m,\u001b[0m\u001b[1;36m65\u001b[0m\u001b[1;33m)\u001b[0m\u001b[1;33m)\u001b[0m\u001b[1;33m\u001b[0m\u001b[0m\n\u001b[0;32m      6\u001b[0m         \u001b[0mdata\u001b[0m \u001b[1;33m=\u001b[0m \u001b[0mnp\u001b[0m\u001b[1;33m.\u001b[0m\u001b[0mmatrix\u001b[0m\u001b[1;33m(\u001b[0m\u001b[0mdata\u001b[0m\u001b[1;33m)\u001b[0m\u001b[1;33m\u001b[0m\u001b[0m\n",
      "\u001b[1;31mIOError\u001b[0m: [Errno 2] No such file or directory: '/home/sm6202/ML/data/features_50_pca'"
     ]
    }
   ],
   "source": [
    "build_bof()"
   ]
  },
  {
   "cell_type": "code",
   "execution_count": null,
   "metadata": {
    "collapsed": true
   },
   "outputs": [],
   "source": []
  }
 ],
 "metadata": {
  "kernelspec": {
   "display_name": "Python 2",
   "language": "python",
   "name": "python2"
  },
  "language_info": {
   "codemirror_mode": {
    "name": "ipython",
    "version": 2
   },
   "file_extension": ".py",
   "mimetype": "text/x-python",
   "name": "python",
   "nbconvert_exporter": "python",
   "pygments_lexer": "ipython2",
   "version": "2.7.10"
  }
 },
 "nbformat": 4,
 "nbformat_minor": 0
}
