{
 "cells": [
  {
   "cell_type": "code",
   "execution_count": 91,
   "metadata": {
    "collapsed": true
   },
   "outputs": [],
   "source": [
    "%matplotlib inline\n",
    "import matplotlib.pyplot as plt\n",
    "import numpy as np\n",
    "import os,sys\n",
    "from PIL import Image\n",
    "from os import listdir\n",
    "from os.path import isfile, join\n",
    "import time\n",
    "import cProfile\n",
    "import matplotlib.image as mpimg\n",
    "from sklearn import preprocessing\n",
    "from sklearn.decomposition import PCA"
   ]
  },
  {
   "cell_type": "code",
   "execution_count": 92,
   "metadata": {
    "collapsed": true
   },
   "outputs": [],
   "source": [
    "f100_features = '/home/subhankari/Desktop/Image_retrieval/data/100_features'\n",
    "f100_features2 = '/home/subhankari/Desktop/Image_retrieval/data/100_features2'"
   ]
  },
  {
   "cell_type": "code",
   "execution_count": 93,
   "metadata": {
    "collapsed": false
   },
   "outputs": [],
   "source": [
    "data = np.zeros((128))\n",
    "with open(f100_features) as f:           \n",
    "    i = 0\n",
    "    for line in f:\n",
    "        floats = map(float, line.split())\n",
    "        floats = np.asarray(floats)\n",
    "        float1 = np.matrix(floats)\n",
    "        float1 = np.asarray(float1)\n",
    "        if(i == 0):\n",
    "            data = float1\n",
    "        else:\n",
    "            data = np.concatenate((data,float1),axis = 0)\n",
    "        i = i + 1\n",
    "with open(f100_features2) as f:\n",
    "    for line in f:\n",
    "        floats = map(float, line.split())\n",
    "        floats = np.asarray(floats)\n",
    "        float1 = np.matrix(floats)\n",
    "        float1 = np.asarray(float1)\n",
    "        data = np.concatenate((data,float1),axis = 0)                "
   ]
  },
  {
   "cell_type": "code",
   "execution_count": 94,
   "metadata": {
    "collapsed": false
   },
   "outputs": [
    {
     "name": "stdout",
     "output_type": "stream",
     "text": [
      "[  4.37756703e-02   3.02284222e-02   2.44031832e-02   2.05591233e-02\n",
      "   1.91364971e-02   1.50222669e-02   1.42735110e-02   1.34033722e-02\n",
      "   1.23086905e-02   8.38631812e-03   8.26399292e-03   7.79470633e-03\n",
      "   5.97663678e-03   5.94541058e-03   5.72858362e-03   5.44501894e-03\n",
      "   5.34317475e-03   4.78880688e-03   4.36604078e-03   4.34075356e-03\n",
      "   4.05411675e-03   3.88179747e-03   3.59894267e-03   3.40994475e-03\n",
      "   2.93249633e-03   2.89486399e-03   2.72991253e-03   2.47742430e-03\n",
      "   2.40427634e-03   2.22859481e-03   2.16135082e-03   1.98144648e-03\n",
      "   1.97182989e-03   1.87072182e-03   1.83690274e-03   1.77192971e-03\n",
      "   1.61397687e-03   1.58669770e-03   1.52814399e-03   1.47684699e-03\n",
      "   1.43781351e-03   1.40157138e-03   1.31794576e-03   1.30621595e-03\n",
      "   1.24906808e-03   1.19553821e-03   1.16605646e-03   1.13662633e-03\n",
      "   1.07818646e-03   1.02407165e-03   9.83336446e-04   9.38122012e-04\n",
      "   9.09324877e-04   8.88338316e-04   8.28205156e-04   8.03350823e-04\n",
      "   7.85797964e-04   7.72660240e-04   7.53485103e-04   7.12994329e-04\n",
      "   6.85005844e-04   6.80960051e-04   6.39037392e-04   6.29532941e-04\n",
      "   6.29069613e-04   6.21578690e-04   6.08676993e-04   5.71050363e-04\n",
      "   5.54884067e-04   5.48457764e-04   5.35816194e-04   4.96870781e-04\n",
      "   4.88113022e-04   4.84500915e-04   4.36786762e-04   4.25572293e-04\n",
      "   4.22705875e-04   4.13869609e-04   4.07133161e-04   3.95295207e-04\n",
      "   3.91546270e-04   3.85402681e-04   3.83414651e-04   3.71707256e-04\n",
      "   3.64578983e-04   3.48395951e-04   3.42866816e-04   3.32147215e-04\n",
      "   3.26511931e-04   3.22622810e-04   3.10908237e-04   3.07613991e-04\n",
      "   2.92710891e-04   2.88242661e-04   2.84466140e-04   2.80584480e-04\n",
      "   2.73927837e-04   2.53246005e-04   2.39536267e-04   2.31121824e-04\n",
      "   2.30280859e-04   2.28411825e-04   2.14432277e-04   2.14263465e-04\n",
      "   2.04707190e-04   2.02739187e-04   1.99862136e-04   1.97083161e-04\n",
      "   1.82360780e-04   1.74987033e-04   1.66953636e-04   1.64843035e-04\n",
      "   1.62831114e-04   1.54312079e-04   1.36430274e-04   1.29095812e-04\n",
      "   1.26694806e-04   1.25058498e-04   1.13662768e-04   1.05837723e-04\n",
      "   1.02711062e-04   9.31442358e-05   8.76350179e-05   7.56946922e-05\n",
      "   7.22547160e-05   6.94487624e-05   6.55145638e-05   5.05831099e-05]\n"
     ]
    }
   ],
   "source": [
    "pca = PCA()\n",
    "pca.fit(data)\n",
    "print(pca.explained_variance_)  "
   ]
  },
  {
   "cell_type": "code",
   "execution_count": null,
   "metadata": {
    "collapsed": true
   },
   "outputs": [],
   "source": []
  },
  {
   "cell_type": "code",
   "execution_count": null,
   "metadata": {
    "collapsed": true
   },
   "outputs": [],
   "source": []
  },
  {
   "cell_type": "code",
   "execution_count": null,
   "metadata": {
    "collapsed": true
   },
   "outputs": [],
   "source": []
  }
 ],
 "metadata": {
  "kernelspec": {
   "display_name": "Python 2",
   "language": "python",
   "name": "python2"
  },
  "language_info": {
   "codemirror_mode": {
    "name": "ipython",
    "version": 2
   },
   "file_extension": ".py",
   "mimetype": "text/x-python",
   "name": "python",
   "nbconvert_exporter": "python",
   "pygments_lexer": "ipython2",
   "version": "2.7.10"
  }
 },
 "nbformat": 4,
 "nbformat_minor": 0
}
