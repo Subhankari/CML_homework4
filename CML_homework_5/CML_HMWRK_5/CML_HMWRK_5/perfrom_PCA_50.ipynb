{
 "cells": [
  {
   "cell_type": "code",
   "execution_count": 17,
   "metadata": {
    "collapsed": true
   },
   "outputs": [],
   "source": [
    "%matplotlib inline\n",
    "import matplotlib.pyplot as plt\n",
    "import numpy as np\n",
    "import os,sys\n",
    "from PIL import Image\n",
    "from os import listdir\n",
    "from os.path import isfile, join\n",
    "import time\n",
    "import cProfile\n",
    "import matplotlib.image as mpimg\n",
    "from sklearn import preprocessing\n",
    "from sklearn.decomposition import PCA"
   ]
  },
  {
   "cell_type": "code",
   "execution_count": 18,
   "metadata": {
    "collapsed": true
   },
   "outputs": [],
   "source": [
    "f50_features = '/home/subhankari/Desktop/Image_retrieval/data/50_features'\n",
    "f50_features2 = '/home/subhankari/Desktop/Image_retrieval/data/50_features2'"
   ]
  },
  {
   "cell_type": "code",
   "execution_count": 19,
   "metadata": {
    "collapsed": false
   },
   "outputs": [
    {
     "data": {
      "text/plain": [
       "'\\nwith open(f50_features2) as f:\\n    for line in f:\\n        floats = map(float, line.split())\\n        floats = np.asarray(floats)\\n        float1 = np.matrix(floats)\\n        float1 = np.asarray(float1)\\n        data = np.concatenate((data,float1),axis = 0) \\n'"
      ]
     },
     "execution_count": 19,
     "metadata": {},
     "output_type": "execute_result"
    }
   ],
   "source": [
    "data = np.zeros((128))\n",
    "with open(f50_features) as f:           \n",
    "    i = 0\n",
    "    for line in f:\n",
    "        if i > 150:\n",
    "            break\n",
    "        floats = map(float, line.split())\n",
    "        floats = np.asarray(floats)\n",
    "        float1 = np.matrix(floats)\n",
    "        float1 = np.asarray(float1)\n",
    "        if(i == 0):\n",
    "            data = float1\n",
    "        else:\n",
    "            data = np.concatenate((data,float1),axis = 0)\n",
    "        i = i + 1\n",
    "\"\"\"\n",
    "with open(f50_features2) as f:\n",
    "    for line in f:\n",
    "        floats = map(float, line.split())\n",
    "        floats = np.asarray(floats)\n",
    "        float1 = np.matrix(floats)\n",
    "        float1 = np.asarray(float1)\n",
    "        data = np.concatenate((data,float1),axis = 0) \n",
    "\"\"\""
   ]
  },
  {
   "cell_type": "code",
   "execution_count": 20,
   "metadata": {
    "collapsed": false
   },
   "outputs": [
    {
     "name": "stdout",
     "output_type": "stream",
     "text": [
      "[ 0.04570473  0.03079349  0.02444857  0.02000327  0.01861614  0.01793469\n",
      "  0.0152396   0.01449888  0.01257815  0.01031795  0.00873066  0.00820065\n",
      "  0.00735743  0.00677887  0.00660288  0.00563844  0.00521411  0.00498666\n",
      "  0.00443392  0.00422538  0.00394894  0.00390126  0.00367883  0.00334417\n",
      "  0.00300043  0.00286114  0.00271657  0.00259174  0.00237328  0.00226462\n",
      "  0.00208665  0.00202741  0.00195361  0.00172652  0.00164367  0.00158697\n",
      "  0.00154418  0.00143209  0.00137689  0.00131742  0.00127854  0.00121578]\n"
     ]
    }
   ],
   "source": [
    "pca = PCA(n_components = 'mle')\n",
    "pca.fit(data)\n",
    "print(pca.explained_variance_) "
   ]
  },
  {
   "cell_type": "code",
   "execution_count": null,
   "metadata": {
    "collapsed": true
   },
   "outputs": [],
   "source": []
  },
  {
   "cell_type": "code",
   "execution_count": null,
   "metadata": {
    "collapsed": true
   },
   "outputs": [],
   "source": []
  }
 ],
 "metadata": {
  "kernelspec": {
   "display_name": "Python 2",
   "language": "python",
   "name": "python2"
  },
  "language_info": {
   "codemirror_mode": {
    "name": "ipython",
    "version": 2
   },
   "file_extension": ".py",
   "mimetype": "text/x-python",
   "name": "python",
   "nbconvert_exporter": "python",
   "pygments_lexer": "ipython2",
   "version": "2.7.10"
  }
 },
 "nbformat": 4,
 "nbformat_minor": 0
}
